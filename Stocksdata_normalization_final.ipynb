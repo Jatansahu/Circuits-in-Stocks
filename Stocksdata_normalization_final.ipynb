{
  "nbformat": 4,
  "nbformat_minor": 0,
  "metadata": {
    "colab": {
      "provenance": []
    },
    "kernelspec": {
      "name": "python3",
      "display_name": "Python 3"
    },
    "language_info": {
      "name": "python"
    }
  },
  "cells": [
    {
      "cell_type": "code",
      "execution_count": 23,
      "metadata": {
        "id": "QHnTbcwR6xJa"
      },
      "outputs": [],
      "source": [
        "from sklearn import preprocessing\n",
        "import pandas as pd\n",
        "import numpy as np\n",
        "import matplotlib\n",
        "import matplotlib.pyplot as plt\n",
        "import datetime\n",
        "from sklearn.preprocessing import MinMaxScaler\n"
      ]
    },
    {
      "cell_type": "code",
      "source": [
        "pip install yfinance"
      ],
      "metadata": {
        "id": "oNBVD7pT7Me2",
        "colab": {
          "base_uri": "https://localhost:8080/"
        },
        "outputId": "b7023172-c66a-4237-dae7-c72ddb1c1596"
      },
      "execution_count": 24,
      "outputs": [
        {
          "output_type": "stream",
          "name": "stdout",
          "text": [
            "Looking in indexes: https://pypi.org/simple, https://us-python.pkg.dev/colab-wheels/public/simple/\n",
            "Requirement already satisfied: yfinance in /usr/local/lib/python3.8/dist-packages (0.2.9)\n",
            "Requirement already satisfied: frozendict>=2.3.4 in /usr/local/lib/python3.8/dist-packages (from yfinance) (2.3.4)\n",
            "Requirement already satisfied: multitasking>=0.0.7 in /usr/local/lib/python3.8/dist-packages (from yfinance) (0.0.11)\n",
            "Requirement already satisfied: html5lib>=1.1 in /usr/local/lib/python3.8/dist-packages (from yfinance) (1.1)\n",
            "Requirement already satisfied: lxml>=4.9.1 in /usr/local/lib/python3.8/dist-packages (from yfinance) (4.9.2)\n",
            "Requirement already satisfied: cryptography>=3.3.2 in /usr/local/lib/python3.8/dist-packages (from yfinance) (39.0.0)\n",
            "Requirement already satisfied: pandas>=1.3.0 in /usr/local/lib/python3.8/dist-packages (from yfinance) (1.3.5)\n",
            "Requirement already satisfied: numpy>=1.16.5 in /usr/local/lib/python3.8/dist-packages (from yfinance) (1.21.6)\n",
            "Requirement already satisfied: appdirs>=1.4.4 in /usr/local/lib/python3.8/dist-packages (from yfinance) (1.4.4)\n",
            "Requirement already satisfied: beautifulsoup4>=4.11.1 in /usr/local/lib/python3.8/dist-packages (from yfinance) (4.11.2)\n",
            "Requirement already satisfied: requests>=2.26 in /usr/local/lib/python3.8/dist-packages (from yfinance) (2.28.2)\n",
            "Requirement already satisfied: pytz>=2022.5 in /usr/local/lib/python3.8/dist-packages (from yfinance) (2022.7.1)\n",
            "Requirement already satisfied: soupsieve>1.2 in /usr/local/lib/python3.8/dist-packages (from beautifulsoup4>=4.11.1->yfinance) (2.3.2.post1)\n",
            "Requirement already satisfied: cffi>=1.12 in /usr/local/lib/python3.8/dist-packages (from cryptography>=3.3.2->yfinance) (1.15.1)\n",
            "Requirement already satisfied: webencodings in /usr/local/lib/python3.8/dist-packages (from html5lib>=1.1->yfinance) (0.5.1)\n",
            "Requirement already satisfied: six>=1.9 in /usr/local/lib/python3.8/dist-packages (from html5lib>=1.1->yfinance) (1.15.0)\n",
            "Requirement already satisfied: python-dateutil>=2.7.3 in /usr/local/lib/python3.8/dist-packages (from pandas>=1.3.0->yfinance) (2.8.2)\n",
            "Requirement already satisfied: urllib3<1.27,>=1.21.1 in /usr/local/lib/python3.8/dist-packages (from requests>=2.26->yfinance) (1.24.3)\n",
            "Requirement already satisfied: certifi>=2017.4.17 in /usr/local/lib/python3.8/dist-packages (from requests>=2.26->yfinance) (2022.12.7)\n",
            "Requirement already satisfied: idna<4,>=2.5 in /usr/local/lib/python3.8/dist-packages (from requests>=2.26->yfinance) (2.10)\n",
            "Requirement already satisfied: charset-normalizer<4,>=2 in /usr/local/lib/python3.8/dist-packages (from requests>=2.26->yfinance) (2.1.1)\n",
            "Requirement already satisfied: pycparser in /usr/local/lib/python3.8/dist-packages (from cffi>=1.12->cryptography>=3.3.2->yfinance) (2.21)\n"
          ]
        }
      ]
    },
    {
      "cell_type": "code",
      "source": [
        "from pandas_datareader import data as pdr\n",
        "\n",
        "import yfinance as yf\n",
        "yf.pdr_override()"
      ],
      "metadata": {
        "id": "pXcW8rU9_zC-"
      },
      "execution_count": 15,
      "outputs": []
    },
    {
      "cell_type": "code",
      "source": [
        "stock_list = ['3MINDIA', 'ADANIGREEN','AFFLE','AIAENG','AKZOINDIA','AMARAJABAT','ANURAS','ASTERDM',\n",
        " 'AXISBANK', 'BAYERCROP','BCG','BDL','BHARTIARTL','DABUR','DMART','FACT','FIVESTAR','FORTIS','GARFIBRES','GLAND',\n",
        " 'GNFC', 'GUJGASLTD','HAPPSTMNDS','HAVELLS','IRCTC','KRBL','LALPATHLAB','LATENTVIEW','LICI','MAZDOCK','NH',\n",
        " 'NMDC', 'PATANJALI','PGHL','PSB','RELAXO','RHIM','SAIL','SAPPHIRE','SCI','SHREECEM','STARHEALTH','TATACONSUM',\n",
        " 'TATAINVEST', 'TECHM','THERMAX','TTKPRESTIG','VEDL','WELCORP','WHIRLPOOL']"
      ],
      "metadata": {
        "id": "lxLHC0L0BpSC"
      },
      "execution_count": 17,
      "outputs": []
    },
    {
      "cell_type": "code",
      "source": [
        "for i in range(len(stock_list)):\n",
        "  stock_list[i] += '.NS'\n",
        "stock_list"
      ],
      "metadata": {
        "colab": {
          "base_uri": "https://localhost:8080/"
        },
        "id": "mW3ynd7pBp8C",
        "outputId": "9499cd26-5039-44a1-ecd9-25c8ccfcf13e"
      },
      "execution_count": 19,
      "outputs": [
        {
          "output_type": "execute_result",
          "data": {
            "text/plain": [
              "['3MINDIA.NS',\n",
              " 'ADANIGREEN.NS',\n",
              " 'AFFLE.NS',\n",
              " 'AIAENG.NS',\n",
              " 'AKZOINDIA.NS',\n",
              " 'AMARAJABAT.NS',\n",
              " 'ANURAS.NS',\n",
              " 'ASTERDM.NS',\n",
              " 'AXISBANK.NS',\n",
              " 'BAYERCROP.NS',\n",
              " 'BCG.NS',\n",
              " 'BDL.NS',\n",
              " 'BHARTIARTL.NS',\n",
              " 'DABUR.NS',\n",
              " 'DMART.NS',\n",
              " 'FACT.NS',\n",
              " 'FIVESTAR.NS',\n",
              " 'FORTIS.NS',\n",
              " 'GARFIBRES.NS',\n",
              " 'GLAND.NS',\n",
              " 'GNFC.NS',\n",
              " 'GUJGASLTD.NS',\n",
              " 'HAPPSTMNDS.NS',\n",
              " 'HAVELLS.NS',\n",
              " 'IRCTC.NS',\n",
              " 'KRBL.NS',\n",
              " 'LALPATHLAB.NS',\n",
              " 'LATENTVIEW.NS',\n",
              " 'LICI.NS',\n",
              " 'MAZDOCK.NS',\n",
              " 'NH.NS',\n",
              " 'NMDC.NS',\n",
              " 'PATANJALI.NS',\n",
              " 'PGHL.NS',\n",
              " 'PSB.NS',\n",
              " 'RELAXO.NS',\n",
              " 'RHIM.NS',\n",
              " 'SAIL.NS',\n",
              " 'SAPPHIRE.NS',\n",
              " 'SCI.NS',\n",
              " 'SHREECEM.NS',\n",
              " 'STARHEALTH.NS',\n",
              " 'TATACONSUM.NS',\n",
              " 'TATAINVEST.NS',\n",
              " 'TECHM.NS',\n",
              " 'THERMAX.NS',\n",
              " 'TTKPRESTIG.NS',\n",
              " 'VEDL.NS',\n",
              " 'WELCORP.NS',\n",
              " 'WHIRLPOOL.NS']"
            ]
          },
          "metadata": {},
          "execution_count": 19
        }
      ]
    },
    {
      "cell_type": "code",
      "source": [
        "data = pdr.get_data_yahoo(stock_list, start=\"2022-01-01\", end=\"2022-12-31\",interval=\"1h\")\n",
        "df = pd.ExcelWriter('Stocks.xlsx')\n",
        "data.to_excel(df, index=True)\n",
        "data"
      ],
      "metadata": {
        "colab": {
          "base_uri": "https://localhost:8080/",
          "height": 380
        },
        "id": "jMBxUtuC_ypr",
        "outputId": "c4ffecad-4396-447b-984f-164fd4cc008f"
      },
      "execution_count": 31,
      "outputs": [
        {
          "output_type": "stream",
          "name": "stdout",
          "text": [
            "[*********************100%***********************]  50 of 50 completed\n"
          ]
        },
        {
          "output_type": "error",
          "ename": "ValueError",
          "evalue": "ignored",
          "traceback": [
            "\u001b[0;31m---------------------------------------------------------------------------\u001b[0m",
            "\u001b[0;31mValueError\u001b[0m                                Traceback (most recent call last)",
            "\u001b[0;32m<ipython-input-31-a8fdb0d44a5d>\u001b[0m in \u001b[0;36m<module>\u001b[0;34m\u001b[0m\n\u001b[1;32m      1\u001b[0m \u001b[0mdata\u001b[0m \u001b[0;34m=\u001b[0m \u001b[0mpdr\u001b[0m\u001b[0;34m.\u001b[0m\u001b[0mget_data_yahoo\u001b[0m\u001b[0;34m(\u001b[0m\u001b[0mstock_list\u001b[0m\u001b[0;34m,\u001b[0m \u001b[0mstart\u001b[0m\u001b[0;34m=\u001b[0m\u001b[0;34m\"2022-01-01\"\u001b[0m\u001b[0;34m,\u001b[0m \u001b[0mend\u001b[0m\u001b[0;34m=\u001b[0m\u001b[0;34m\"2022-12-31\"\u001b[0m\u001b[0;34m,\u001b[0m\u001b[0minterval\u001b[0m\u001b[0;34m=\u001b[0m\u001b[0;34m\"1h\"\u001b[0m\u001b[0;34m)\u001b[0m\u001b[0;34m\u001b[0m\u001b[0;34m\u001b[0m\u001b[0m\n\u001b[1;32m      2\u001b[0m \u001b[0mdf\u001b[0m \u001b[0;34m=\u001b[0m \u001b[0mpd\u001b[0m\u001b[0;34m.\u001b[0m\u001b[0mExcelWriter\u001b[0m\u001b[0;34m(\u001b[0m\u001b[0;34m'Stocks.xlsx'\u001b[0m\u001b[0;34m)\u001b[0m\u001b[0;34m\u001b[0m\u001b[0;34m\u001b[0m\u001b[0m\n\u001b[0;32m----> 3\u001b[0;31m \u001b[0mdata\u001b[0m\u001b[0;34m.\u001b[0m\u001b[0mto_excel\u001b[0m\u001b[0;34m(\u001b[0m\u001b[0mdf\u001b[0m\u001b[0;34m,\u001b[0m \u001b[0mindex\u001b[0m\u001b[0;34m=\u001b[0m\u001b[0;32mTrue\u001b[0m\u001b[0;34m)\u001b[0m\u001b[0;34m\u001b[0m\u001b[0;34m\u001b[0m\u001b[0m\n\u001b[0m\u001b[1;32m      4\u001b[0m \u001b[0mdata\u001b[0m\u001b[0;34m\u001b[0m\u001b[0;34m\u001b[0m\u001b[0m\n",
            "\u001b[0;32m/usr/local/lib/python3.8/dist-packages/pandas/core/generic.py\u001b[0m in \u001b[0;36mto_excel\u001b[0;34m(self, excel_writer, sheet_name, na_rep, float_format, columns, header, index, index_label, startrow, startcol, engine, merge_cells, encoding, inf_rep, verbose, freeze_panes, storage_options)\u001b[0m\n\u001b[1;32m   2282\u001b[0m             \u001b[0minf_rep\u001b[0m\u001b[0;34m=\u001b[0m\u001b[0minf_rep\u001b[0m\u001b[0;34m,\u001b[0m\u001b[0;34m\u001b[0m\u001b[0;34m\u001b[0m\u001b[0m\n\u001b[1;32m   2283\u001b[0m         )\n\u001b[0;32m-> 2284\u001b[0;31m         formatter.write(\n\u001b[0m\u001b[1;32m   2285\u001b[0m             \u001b[0mexcel_writer\u001b[0m\u001b[0;34m,\u001b[0m\u001b[0;34m\u001b[0m\u001b[0;34m\u001b[0m\u001b[0m\n\u001b[1;32m   2286\u001b[0m             \u001b[0msheet_name\u001b[0m\u001b[0;34m=\u001b[0m\u001b[0msheet_name\u001b[0m\u001b[0;34m,\u001b[0m\u001b[0;34m\u001b[0m\u001b[0;34m\u001b[0m\u001b[0m\n",
            "\u001b[0;32m/usr/local/lib/python3.8/dist-packages/pandas/io/formats/excel.py\u001b[0m in \u001b[0;36mwrite\u001b[0;34m(self, writer, sheet_name, startrow, startcol, freeze_panes, engine, storage_options)\u001b[0m\n\u001b[1;32m    838\u001b[0m \u001b[0;34m\u001b[0m\u001b[0m\n\u001b[1;32m    839\u001b[0m         \u001b[0;32mtry\u001b[0m\u001b[0;34m:\u001b[0m\u001b[0;34m\u001b[0m\u001b[0;34m\u001b[0m\u001b[0m\n\u001b[0;32m--> 840\u001b[0;31m             writer.write_cells(\n\u001b[0m\u001b[1;32m    841\u001b[0m                 \u001b[0mformatted_cells\u001b[0m\u001b[0;34m,\u001b[0m\u001b[0;34m\u001b[0m\u001b[0;34m\u001b[0m\u001b[0m\n\u001b[1;32m    842\u001b[0m                 \u001b[0msheet_name\u001b[0m\u001b[0;34m,\u001b[0m\u001b[0;34m\u001b[0m\u001b[0;34m\u001b[0m\u001b[0m\n",
            "\u001b[0;32m/usr/local/lib/python3.8/dist-packages/pandas/io/excel/_openpyxl.py\u001b[0m in \u001b[0;36mwrite_cells\u001b[0;34m(self, cells, sheet_name, startrow, startcol, freeze_panes)\u001b[0m\n\u001b[1;32m    455\u001b[0m             )\n\u001b[1;32m    456\u001b[0m \u001b[0;34m\u001b[0m\u001b[0m\n\u001b[0;32m--> 457\u001b[0;31m         \u001b[0;32mfor\u001b[0m \u001b[0mcell\u001b[0m \u001b[0;32min\u001b[0m \u001b[0mcells\u001b[0m\u001b[0;34m:\u001b[0m\u001b[0;34m\u001b[0m\u001b[0;34m\u001b[0m\u001b[0m\n\u001b[0m\u001b[1;32m    458\u001b[0m             xcell = wks.cell(\n\u001b[1;32m    459\u001b[0m                 \u001b[0mrow\u001b[0m\u001b[0;34m=\u001b[0m\u001b[0mstartrow\u001b[0m \u001b[0;34m+\u001b[0m \u001b[0mcell\u001b[0m\u001b[0;34m.\u001b[0m\u001b[0mrow\u001b[0m \u001b[0;34m+\u001b[0m \u001b[0;36m1\u001b[0m\u001b[0;34m,\u001b[0m \u001b[0mcolumn\u001b[0m\u001b[0;34m=\u001b[0m\u001b[0mstartcol\u001b[0m \u001b[0;34m+\u001b[0m \u001b[0mcell\u001b[0m\u001b[0;34m.\u001b[0m\u001b[0mcol\u001b[0m \u001b[0;34m+\u001b[0m \u001b[0;36m1\u001b[0m\u001b[0;34m\u001b[0m\u001b[0;34m\u001b[0m\u001b[0m\n",
            "\u001b[0;32m/usr/local/lib/python3.8/dist-packages/pandas/io/formats/excel.py\u001b[0m in \u001b[0;36mget_formatted_cells\u001b[0;34m(self)\u001b[0m\n\u001b[1;32m    776\u001b[0m     \u001b[0;32mdef\u001b[0m \u001b[0mget_formatted_cells\u001b[0m\u001b[0;34m(\u001b[0m\u001b[0mself\u001b[0m\u001b[0;34m)\u001b[0m \u001b[0;34m->\u001b[0m \u001b[0mIterable\u001b[0m\u001b[0;34m[\u001b[0m\u001b[0mExcelCell\u001b[0m\u001b[0;34m]\u001b[0m\u001b[0;34m:\u001b[0m\u001b[0;34m\u001b[0m\u001b[0;34m\u001b[0m\u001b[0m\n\u001b[1;32m    777\u001b[0m         \u001b[0;32mfor\u001b[0m \u001b[0mcell\u001b[0m \u001b[0;32min\u001b[0m \u001b[0mitertools\u001b[0m\u001b[0;34m.\u001b[0m\u001b[0mchain\u001b[0m\u001b[0;34m(\u001b[0m\u001b[0mself\u001b[0m\u001b[0;34m.\u001b[0m\u001b[0m_format_header\u001b[0m\u001b[0;34m(\u001b[0m\u001b[0;34m)\u001b[0m\u001b[0;34m,\u001b[0m \u001b[0mself\u001b[0m\u001b[0;34m.\u001b[0m\u001b[0m_format_body\u001b[0m\u001b[0;34m(\u001b[0m\u001b[0;34m)\u001b[0m\u001b[0;34m)\u001b[0m\u001b[0;34m:\u001b[0m\u001b[0;34m\u001b[0m\u001b[0;34m\u001b[0m\u001b[0m\n\u001b[0;32m--> 778\u001b[0;31m             \u001b[0mcell\u001b[0m\u001b[0;34m.\u001b[0m\u001b[0mval\u001b[0m \u001b[0;34m=\u001b[0m \u001b[0mself\u001b[0m\u001b[0;34m.\u001b[0m\u001b[0m_format_value\u001b[0m\u001b[0;34m(\u001b[0m\u001b[0mcell\u001b[0m\u001b[0;34m.\u001b[0m\u001b[0mval\u001b[0m\u001b[0;34m)\u001b[0m\u001b[0;34m\u001b[0m\u001b[0;34m\u001b[0m\u001b[0m\n\u001b[0m\u001b[1;32m    779\u001b[0m             \u001b[0;32myield\u001b[0m \u001b[0mcell\u001b[0m\u001b[0;34m\u001b[0m\u001b[0;34m\u001b[0m\u001b[0m\n\u001b[1;32m    780\u001b[0m \u001b[0;34m\u001b[0m\u001b[0m\n",
            "\u001b[0;32m/usr/local/lib/python3.8/dist-packages/pandas/io/formats/excel.py\u001b[0m in \u001b[0;36m_format_value\u001b[0;34m(self, val)\u001b[0m\n\u001b[1;32m    524\u001b[0m                 \u001b[0mval\u001b[0m \u001b[0;34m=\u001b[0m \u001b[0mfloat\u001b[0m\u001b[0;34m(\u001b[0m\u001b[0mself\u001b[0m\u001b[0;34m.\u001b[0m\u001b[0mfloat_format\u001b[0m \u001b[0;34m%\u001b[0m \u001b[0mval\u001b[0m\u001b[0;34m)\u001b[0m\u001b[0;34m\u001b[0m\u001b[0;34m\u001b[0m\u001b[0m\n\u001b[1;32m    525\u001b[0m         \u001b[0;32mif\u001b[0m \u001b[0mgetattr\u001b[0m\u001b[0;34m(\u001b[0m\u001b[0mval\u001b[0m\u001b[0;34m,\u001b[0m \u001b[0;34m\"tzinfo\"\u001b[0m\u001b[0;34m,\u001b[0m \u001b[0;32mNone\u001b[0m\u001b[0;34m)\u001b[0m \u001b[0;32mis\u001b[0m \u001b[0;32mnot\u001b[0m \u001b[0;32mNone\u001b[0m\u001b[0;34m:\u001b[0m\u001b[0;34m\u001b[0m\u001b[0;34m\u001b[0m\u001b[0m\n\u001b[0;32m--> 526\u001b[0;31m             raise ValueError(\n\u001b[0m\u001b[1;32m    527\u001b[0m                 \u001b[0;34m\"Excel does not support datetimes with \"\u001b[0m\u001b[0;34m\u001b[0m\u001b[0;34m\u001b[0m\u001b[0m\n\u001b[1;32m    528\u001b[0m                 \u001b[0;34m\"timezones. Please ensure that datetimes \"\u001b[0m\u001b[0;34m\u001b[0m\u001b[0;34m\u001b[0m\u001b[0m\n",
            "\u001b[0;31mValueError\u001b[0m: Excel does not support datetimes with timezones. Please ensure that datetimes are timezone unaware before writing to Excel."
          ]
        }
      ]
    },
    {
      "cell_type": "code",
      "source": [
        "data.columns"
      ],
      "metadata": {
        "colab": {
          "base_uri": "https://localhost:8080/"
        },
        "id": "4R4r4LFEB2B6",
        "outputId": "92034415-0971-4fcd-c703-dd6c52ad861e"
      },
      "execution_count": 22,
      "outputs": [
        {
          "output_type": "execute_result",
          "data": {
            "text/plain": [
              "MultiIndex([('Adj Close',    '3MINDIA.NS'),\n",
              "            ('Adj Close', 'ADANIGREEN.NS'),\n",
              "            ('Adj Close',      'AFFLE.NS'),\n",
              "            ('Adj Close',     'AIAENG.NS'),\n",
              "            ('Adj Close',  'AKZOINDIA.NS'),\n",
              "            ('Adj Close', 'AMARAJABAT.NS'),\n",
              "            ('Adj Close',     'ANURAS.NS'),\n",
              "            ('Adj Close',    'ASTERDM.NS'),\n",
              "            ('Adj Close',   'AXISBANK.NS'),\n",
              "            ('Adj Close',  'BAYERCROP.NS'),\n",
              "            ...\n",
              "            (   'Volume',   'SHREECEM.NS'),\n",
              "            (   'Volume', 'STARHEALTH.NS'),\n",
              "            (   'Volume', 'TATACONSUM.NS'),\n",
              "            (   'Volume', 'TATAINVEST.NS'),\n",
              "            (   'Volume',      'TECHM.NS'),\n",
              "            (   'Volume',    'THERMAX.NS'),\n",
              "            (   'Volume', 'TTKPRESTIG.NS'),\n",
              "            (   'Volume',       'VEDL.NS'),\n",
              "            (   'Volume',    'WELCORP.NS'),\n",
              "            (   'Volume',  'WHIRLPOOL.NS')],\n",
              "           length=300)"
            ]
          },
          "metadata": {},
          "execution_count": 22
        }
      ]
    },
    {
      "cell_type": "code",
      "source": [
        "scaler = MinMaxScaler()\n",
        "d=scaler.fit_transform(data.iloc[2:,1:])\n",
        "scaled_df = pd.DataFrame(d)\n",
        "cols = list(scaled_df.columns)\n",
        "scaled_df.head()"
      ],
      "metadata": {
        "colab": {
          "base_uri": "https://localhost:8080/",
          "height": 369
        },
        "id": "SV355DuSB3Wo",
        "outputId": "f73abdbf-a2c4-4283-b764-5b6e760a5fd5"
      },
      "execution_count": 32,
      "outputs": [
        {
          "output_type": "stream",
          "name": "stderr",
          "text": [
            "/usr/local/lib/python3.8/dist-packages/sklearn/utils/validation.py:1688: FutureWarning: Feature names only support names that are all strings. Got feature names with dtypes: ['tuple']. An error will be raised in 1.2.\n",
            "  warnings.warn(\n",
            "/usr/local/lib/python3.8/dist-packages/sklearn/utils/validation.py:1688: FutureWarning: Feature names only support names that are all strings. Got feature names with dtypes: ['tuple']. An error will be raised in 1.2.\n",
            "  warnings.warn(\n"
          ]
        },
        {
          "output_type": "execute_result",
          "data": {
            "text/plain": [
              "        0         1         2         3         4         5         6    \\\n",
              "0  0.000000  0.482375  0.265120  0.497828  0.884383  0.886255  0.170807   \n",
              "1  0.003145  0.482375  0.261436  0.496282  0.885503  0.900923  0.167702   \n",
              "2  0.003324  0.506674  0.254070  0.503571  0.882366  0.909276  0.177462   \n",
              "3  0.000060  0.508912  0.254033  0.506516  0.881918  0.975425  0.173913   \n",
              "4  0.000928  0.503557  0.263904  0.502687  0.882366  0.993686  0.173026   \n",
              "\n",
              "        7         8         9    ...       289       290       291       292  \\\n",
              "0  0.212855  0.556413  0.871844  ...  0.006105  0.003889  0.019410  0.002414   \n",
              "1  0.222272  0.556739  0.878607  ...  0.004689  0.009326  0.013088  0.001410   \n",
              "2  0.220329  0.544983  0.878607  ...  0.010841  0.011559  0.009615  0.006632   \n",
              "3  0.225112  0.549229  0.866772  ...  0.013926  0.041671  0.016396  0.008327   \n",
              "4  0.225859  0.550290  0.859671  ...  0.006293  0.015731  0.008890  0.003176   \n",
              "\n",
              "        293       294       295       296       297       298  \n",
              "0  0.053714  0.021141  0.016398  0.063827  0.015235  0.031198  \n",
              "1  0.035851  0.010175  0.006187  0.028001  0.018116  0.016760  \n",
              "2  0.036816  0.009001  0.005148  0.061304  0.014874  0.022407  \n",
              "3  0.059548  0.043905  0.007860  0.092967  0.021721  0.037916  \n",
              "4  0.044487  0.015675  0.004588  0.034474  0.017591  0.022567  \n",
              "\n",
              "[5 rows x 299 columns]"
            ],
            "text/html": [
              "\n",
              "  <div id=\"df-1c959a4a-cff9-4a2d-9701-1d6ffdff6127\">\n",
              "    <div class=\"colab-df-container\">\n",
              "      <div>\n",
              "<style scoped>\n",
              "    .dataframe tbody tr th:only-of-type {\n",
              "        vertical-align: middle;\n",
              "    }\n",
              "\n",
              "    .dataframe tbody tr th {\n",
              "        vertical-align: top;\n",
              "    }\n",
              "\n",
              "    .dataframe thead th {\n",
              "        text-align: right;\n",
              "    }\n",
              "</style>\n",
              "<table border=\"1\" class=\"dataframe\">\n",
              "  <thead>\n",
              "    <tr style=\"text-align: right;\">\n",
              "      <th></th>\n",
              "      <th>0</th>\n",
              "      <th>1</th>\n",
              "      <th>2</th>\n",
              "      <th>3</th>\n",
              "      <th>4</th>\n",
              "      <th>5</th>\n",
              "      <th>6</th>\n",
              "      <th>7</th>\n",
              "      <th>8</th>\n",
              "      <th>9</th>\n",
              "      <th>...</th>\n",
              "      <th>289</th>\n",
              "      <th>290</th>\n",
              "      <th>291</th>\n",
              "      <th>292</th>\n",
              "      <th>293</th>\n",
              "      <th>294</th>\n",
              "      <th>295</th>\n",
              "      <th>296</th>\n",
              "      <th>297</th>\n",
              "      <th>298</th>\n",
              "    </tr>\n",
              "  </thead>\n",
              "  <tbody>\n",
              "    <tr>\n",
              "      <th>0</th>\n",
              "      <td>0.000000</td>\n",
              "      <td>0.482375</td>\n",
              "      <td>0.265120</td>\n",
              "      <td>0.497828</td>\n",
              "      <td>0.884383</td>\n",
              "      <td>0.886255</td>\n",
              "      <td>0.170807</td>\n",
              "      <td>0.212855</td>\n",
              "      <td>0.556413</td>\n",
              "      <td>0.871844</td>\n",
              "      <td>...</td>\n",
              "      <td>0.006105</td>\n",
              "      <td>0.003889</td>\n",
              "      <td>0.019410</td>\n",
              "      <td>0.002414</td>\n",
              "      <td>0.053714</td>\n",
              "      <td>0.021141</td>\n",
              "      <td>0.016398</td>\n",
              "      <td>0.063827</td>\n",
              "      <td>0.015235</td>\n",
              "      <td>0.031198</td>\n",
              "    </tr>\n",
              "    <tr>\n",
              "      <th>1</th>\n",
              "      <td>0.003145</td>\n",
              "      <td>0.482375</td>\n",
              "      <td>0.261436</td>\n",
              "      <td>0.496282</td>\n",
              "      <td>0.885503</td>\n",
              "      <td>0.900923</td>\n",
              "      <td>0.167702</td>\n",
              "      <td>0.222272</td>\n",
              "      <td>0.556739</td>\n",
              "      <td>0.878607</td>\n",
              "      <td>...</td>\n",
              "      <td>0.004689</td>\n",
              "      <td>0.009326</td>\n",
              "      <td>0.013088</td>\n",
              "      <td>0.001410</td>\n",
              "      <td>0.035851</td>\n",
              "      <td>0.010175</td>\n",
              "      <td>0.006187</td>\n",
              "      <td>0.028001</td>\n",
              "      <td>0.018116</td>\n",
              "      <td>0.016760</td>\n",
              "    </tr>\n",
              "    <tr>\n",
              "      <th>2</th>\n",
              "      <td>0.003324</td>\n",
              "      <td>0.506674</td>\n",
              "      <td>0.254070</td>\n",
              "      <td>0.503571</td>\n",
              "      <td>0.882366</td>\n",
              "      <td>0.909276</td>\n",
              "      <td>0.177462</td>\n",
              "      <td>0.220329</td>\n",
              "      <td>0.544983</td>\n",
              "      <td>0.878607</td>\n",
              "      <td>...</td>\n",
              "      <td>0.010841</td>\n",
              "      <td>0.011559</td>\n",
              "      <td>0.009615</td>\n",
              "      <td>0.006632</td>\n",
              "      <td>0.036816</td>\n",
              "      <td>0.009001</td>\n",
              "      <td>0.005148</td>\n",
              "      <td>0.061304</td>\n",
              "      <td>0.014874</td>\n",
              "      <td>0.022407</td>\n",
              "    </tr>\n",
              "    <tr>\n",
              "      <th>3</th>\n",
              "      <td>0.000060</td>\n",
              "      <td>0.508912</td>\n",
              "      <td>0.254033</td>\n",
              "      <td>0.506516</td>\n",
              "      <td>0.881918</td>\n",
              "      <td>0.975425</td>\n",
              "      <td>0.173913</td>\n",
              "      <td>0.225112</td>\n",
              "      <td>0.549229</td>\n",
              "      <td>0.866772</td>\n",
              "      <td>...</td>\n",
              "      <td>0.013926</td>\n",
              "      <td>0.041671</td>\n",
              "      <td>0.016396</td>\n",
              "      <td>0.008327</td>\n",
              "      <td>0.059548</td>\n",
              "      <td>0.043905</td>\n",
              "      <td>0.007860</td>\n",
              "      <td>0.092967</td>\n",
              "      <td>0.021721</td>\n",
              "      <td>0.037916</td>\n",
              "    </tr>\n",
              "    <tr>\n",
              "      <th>4</th>\n",
              "      <td>0.000928</td>\n",
              "      <td>0.503557</td>\n",
              "      <td>0.263904</td>\n",
              "      <td>0.502687</td>\n",
              "      <td>0.882366</td>\n",
              "      <td>0.993686</td>\n",
              "      <td>0.173026</td>\n",
              "      <td>0.225859</td>\n",
              "      <td>0.550290</td>\n",
              "      <td>0.859671</td>\n",
              "      <td>...</td>\n",
              "      <td>0.006293</td>\n",
              "      <td>0.015731</td>\n",
              "      <td>0.008890</td>\n",
              "      <td>0.003176</td>\n",
              "      <td>0.044487</td>\n",
              "      <td>0.015675</td>\n",
              "      <td>0.004588</td>\n",
              "      <td>0.034474</td>\n",
              "      <td>0.017591</td>\n",
              "      <td>0.022567</td>\n",
              "    </tr>\n",
              "  </tbody>\n",
              "</table>\n",
              "<p>5 rows × 299 columns</p>\n",
              "</div>\n",
              "      <button class=\"colab-df-convert\" onclick=\"convertToInteractive('df-1c959a4a-cff9-4a2d-9701-1d6ffdff6127')\"\n",
              "              title=\"Convert this dataframe to an interactive table.\"\n",
              "              style=\"display:none;\">\n",
              "        \n",
              "  <svg xmlns=\"http://www.w3.org/2000/svg\" height=\"24px\"viewBox=\"0 0 24 24\"\n",
              "       width=\"24px\">\n",
              "    <path d=\"M0 0h24v24H0V0z\" fill=\"none\"/>\n",
              "    <path d=\"M18.56 5.44l.94 2.06.94-2.06 2.06-.94-2.06-.94-.94-2.06-.94 2.06-2.06.94zm-11 1L8.5 8.5l.94-2.06 2.06-.94-2.06-.94L8.5 2.5l-.94 2.06-2.06.94zm10 10l.94 2.06.94-2.06 2.06-.94-2.06-.94-.94-2.06-.94 2.06-2.06.94z\"/><path d=\"M17.41 7.96l-1.37-1.37c-.4-.4-.92-.59-1.43-.59-.52 0-1.04.2-1.43.59L10.3 9.45l-7.72 7.72c-.78.78-.78 2.05 0 2.83L4 21.41c.39.39.9.59 1.41.59.51 0 1.02-.2 1.41-.59l7.78-7.78 2.81-2.81c.8-.78.8-2.07 0-2.86zM5.41 20L4 18.59l7.72-7.72 1.47 1.35L5.41 20z\"/>\n",
              "  </svg>\n",
              "      </button>\n",
              "      \n",
              "  <style>\n",
              "    .colab-df-container {\n",
              "      display:flex;\n",
              "      flex-wrap:wrap;\n",
              "      gap: 12px;\n",
              "    }\n",
              "\n",
              "    .colab-df-convert {\n",
              "      background-color: #E8F0FE;\n",
              "      border: none;\n",
              "      border-radius: 50%;\n",
              "      cursor: pointer;\n",
              "      display: none;\n",
              "      fill: #1967D2;\n",
              "      height: 32px;\n",
              "      padding: 0 0 0 0;\n",
              "      width: 32px;\n",
              "    }\n",
              "\n",
              "    .colab-df-convert:hover {\n",
              "      background-color: #E2EBFA;\n",
              "      box-shadow: 0px 1px 2px rgba(60, 64, 67, 0.3), 0px 1px 3px 1px rgba(60, 64, 67, 0.15);\n",
              "      fill: #174EA6;\n",
              "    }\n",
              "\n",
              "    [theme=dark] .colab-df-convert {\n",
              "      background-color: #3B4455;\n",
              "      fill: #D2E3FC;\n",
              "    }\n",
              "\n",
              "    [theme=dark] .colab-df-convert:hover {\n",
              "      background-color: #434B5C;\n",
              "      box-shadow: 0px 1px 3px 1px rgba(0, 0, 0, 0.15);\n",
              "      filter: drop-shadow(0px 1px 2px rgba(0, 0, 0, 0.3));\n",
              "      fill: #FFFFFF;\n",
              "    }\n",
              "  </style>\n",
              "\n",
              "      <script>\n",
              "        const buttonEl =\n",
              "          document.querySelector('#df-1c959a4a-cff9-4a2d-9701-1d6ffdff6127 button.colab-df-convert');\n",
              "        buttonEl.style.display =\n",
              "          google.colab.kernel.accessAllowed ? 'block' : 'none';\n",
              "\n",
              "        async function convertToInteractive(key) {\n",
              "          const element = document.querySelector('#df-1c959a4a-cff9-4a2d-9701-1d6ffdff6127');\n",
              "          const dataTable =\n",
              "            await google.colab.kernel.invokeFunction('convertToInteractive',\n",
              "                                                     [key], {});\n",
              "          if (!dataTable) return;\n",
              "\n",
              "          const docLinkHtml = 'Like what you see? Visit the ' +\n",
              "            '<a target=\"_blank\" href=https://colab.research.google.com/notebooks/data_table.ipynb>data table notebook</a>'\n",
              "            + ' to learn more about interactive tables.';\n",
              "          element.innerHTML = '';\n",
              "          dataTable['output_type'] = 'display_data';\n",
              "          await google.colab.output.renderOutput(dataTable, element);\n",
              "          const docLink = document.createElement('div');\n",
              "          docLink.innerHTML = docLinkHtml;\n",
              "          element.appendChild(docLink);\n",
              "        }\n",
              "      </script>\n",
              "    </div>\n",
              "  </div>\n",
              "  "
            ]
          },
          "metadata": {},
          "execution_count": 32
        }
      ]
    }
  ]
}